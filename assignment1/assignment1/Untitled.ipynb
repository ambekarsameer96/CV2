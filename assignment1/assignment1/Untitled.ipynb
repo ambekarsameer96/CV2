{
 "cells": [
  {
   "cell_type": "code",
   "execution_count": 3,
   "id": "f634cfd6",
   "metadata": {},
   "outputs": [
    {
     "name": "stdout",
     "output_type": "stream",
     "text": [
      "Jupyter environment detected. Enabling Open3D WebVisualizer.\n",
      "[Open3D INFO] WebRTC GUI backend enabled.\n",
      "[Open3D INFO] WebRTCWindowSystem: HTTP handshake server disabled.\n"
     ]
    }
   ],
   "source": [
    "import sampling_matching_methods as sm\n",
    "import numpy as np\n",
    "import pickle\n",
    "import ICP\n",
    "import utils"
   ]
  },
  {
   "cell_type": "code",
   "execution_count": 6,
   "id": "afb614e9",
   "metadata": {},
   "outputs": [],
   "source": [
    "source, target = utils.open_wave_data()"
   ]
  },
  {
   "cell_type": "code",
   "execution_count": 8,
   "id": "ce738904",
   "metadata": {
    "scrolled": true
   },
   "outputs": [
    {
     "name": "stdout",
     "output_type": "stream",
     "text": [
      "None\n",
      "Mean RMS: 0.26654191782817593\n",
      "Final RMS: 0.24283354372238403\n",
      "\n",
      "None\n",
      "Mean RMS: 0.2769510649046266\n",
      "Final RMS: 0.24495633094804334\n",
      "\n",
      "None\n",
      "Mean RMS: 0.2692290692921062\n",
      "Final RMS: 0.24180580958313327\n",
      "\n",
      "None\n",
      "Mean RMS: 0.2727364942512639\n",
      "Final RMS: 0.2421947980386017\n",
      "\n",
      "None\n",
      "Mean RMS: 0.27484207852144826\n",
      "Final RMS: 0.24424544795662076\n",
      "\n",
      "None\n",
      "Mean RMS: 0.2769551581551281\n",
      "Final RMS: 0.24529491568042022\n",
      "\n",
      "None\n",
      "Mean RMS: 0.27727716556465903\n",
      "Final RMS: 0.243065654699858\n",
      "\n",
      "None\n",
      "Mean RMS: 0.27748425821733513\n",
      "Final RMS: 0.24356854992507004\n",
      "\n",
      "14.8 s ± 1.09 s per loop (mean ± std. dev. of 7 runs, 1 loop each)\n"
     ]
    }
   ],
   "source": [
    "%%timeit\n",
    "unif_args = {'sampling_fn': sm.uniform_sampling}\n",
    "unif_args['sampling_fn_ratio'] = 4\n",
    "ICP.run_ICP(source, target, args=unif_args)"
   ]
  },
  {
   "cell_type": "code",
   "execution_count": null,
   "id": "26a2d0a8",
   "metadata": {},
   "outputs": [],
   "source": [
    "13.6 s ± 445 ms per loop (mean ± std. dev. of 7 runs, 1 loop each)"
   ]
  }
 ],
 "metadata": {
  "kernelspec": {
   "display_name": "Python 3",
   "language": "python",
   "name": "python3"
  },
  "language_info": {
   "codemirror_mode": {
    "name": "ipython",
    "version": 3
   },
   "file_extension": ".py",
   "mimetype": "text/x-python",
   "name": "python",
   "nbconvert_exporter": "python",
   "pygments_lexer": "ipython3",
   "version": "3.8.10"
  }
 },
 "nbformat": 4,
 "nbformat_minor": 5
}
