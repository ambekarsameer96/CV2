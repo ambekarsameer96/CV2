{
 "cells": [
  {
   "cell_type": "code",
   "execution_count": 7,
   "metadata": {},
   "outputs": [],
   "source": [
    "import numpy as np\n",
    "import open3d as o3d\n",
    "import os\n",
    "\n",
    "# globals.\n",
    "DATA_DIR = 'Data'  # This depends on where this file is located. Change for your needs.\n",
    "\n",
    "\n",
    "######                                                           ######\n",
    "##      notice: This is just some example, feel free to adapt        ##\n",
    "######                                                           ######\n",
    "\n",
    "\n",
    "# == Load data ==\n",
    "def open3d_example():\n",
    "    pcd = o3d.io.read_point_cloud(\"Data/data/0000000000.pcd\")\n",
    "    # ## convert into ndarray\n",
    "\n",
    "    pcd_arr = np.asarray(pcd.points)\n",
    "\n",
    "    # ***  you need to clean the point cloud using a threshold ***\n",
    "    distances = np.sqrt(np.sum(pcd_arr ** 2, axis = 1))\n",
    "    pcd_arr_cleaned = pcd_arr[distances < 2]\n",
    "    # pcd_arr_cleaned = pcd_arr\n",
    "\n",
    "\n",
    "    # visualization from ndarray\n",
    "    vis_pcd = o3d.geometry.PointCloud()\n",
    "    vis_pcd.points = o3d.utility.Vector3dVector(pcd_arr_cleaned)\n",
    "    o3d.visualization.draw_geometries([vis_pcd])\n",
    "\n",
    "\n",
    "def open_wave_data():\n",
    "    target = np.load(os.path.join(DATA_DIR, 'wave_target.npy'))\n",
    "    source = np.load(os.path.join(DATA_DIR, 'wave_source.npy'))\n",
    "    return source, target\n",
    "\n",
    "\n",
    "def open_bunny_data():\n",
    "    target = np.load(os.path.join(DATA_DIR, 'bunny_target.npy'))\n",
    "    source = np.load(os.path.join(DATA_DIR, 'bunny_source.npy'))\n",
    "    return source, target\n",
    "\n",
    "\n"
   ]
  },
  {
   "cell_type": "code",
   "execution_count": 6,
   "metadata": {},
   "outputs": [
    {
     "name": "stdout",
     "output_type": "stream",
     "text": [
      "[Open3D INFO] WebRTC GUI backend enabled.\n"
     ]
    },
    {
     "ename": "RuntimeError",
     "evalue": "[Open3D Error] (void __cdecl open3d::visualization::gui::Application::SetWindowSystem(class std::shared_ptr<class open3d::visualization::gui::WindowSystem>)) D:\\a\\Open3D\\Open3D\\cpp\\open3d\\visualization\\gui\\Application.cpp:355: Cannot set WindowSystem. It is already set.\n",
     "output_type": "error",
     "traceback": [
      "\u001b[1;31m---------------------------------------------------------------------------\u001b[0m",
      "\u001b[1;31mRuntimeError\u001b[0m                              Traceback (most recent call last)",
      "\u001b[1;32m~\\AppData\\Local\\Temp/ipykernel_35476/3693973770.py\u001b[0m in \u001b[0;36m<module>\u001b[1;34m\u001b[0m\n\u001b[0;32m      1\u001b[0m \u001b[1;32mimport\u001b[0m \u001b[0mopen3d\u001b[0m \u001b[1;32mas\u001b[0m \u001b[0mo3d\u001b[0m\u001b[1;33m\u001b[0m\u001b[1;33m\u001b[0m\u001b[0m\n\u001b[1;32m----> 2\u001b[1;33m \u001b[0mo3d\u001b[0m\u001b[1;33m.\u001b[0m\u001b[0mvisualization\u001b[0m\u001b[1;33m.\u001b[0m\u001b[0mwebrtc_server\u001b[0m\u001b[1;33m.\u001b[0m\u001b[0menable_webrtc\u001b[0m\u001b[1;33m(\u001b[0m\u001b[1;33m)\u001b[0m\u001b[1;33m\u001b[0m\u001b[1;33m\u001b[0m\u001b[0m\n\u001b[0m",
      "\u001b[1;31mRuntimeError\u001b[0m: [Open3D Error] (void __cdecl open3d::visualization::gui::Application::SetWindowSystem(class std::shared_ptr<class open3d::visualization::gui::WindowSystem>)) D:\\a\\Open3D\\Open3D\\cpp\\open3d\\visualization\\gui\\Application.cpp:355: Cannot set WindowSystem. It is already set.\n"
     ]
    }
   ],
   "source": [
    "import open3d as o3d\n",
    "o3d.visualization.webrtc_server.enable_webrtc()"
   ]
  },
  {
   "cell_type": "code",
   "execution_count": 2,
   "metadata": {},
   "outputs": [
    {
     "ename": "ImportError",
     "evalue": "cannot import name 'JVisualizer' from 'open3d' (C:\\Users\\ambek\\AppData\\Roaming\\Python\\Python39\\site-packages\\open3d\\__init__.py)",
     "output_type": "error",
     "traceback": [
      "\u001b[1;31m---------------------------------------------------------------------------\u001b[0m",
      "\u001b[1;31mImportError\u001b[0m                               Traceback (most recent call last)",
      "\u001b[1;32m~\\AppData\\Local\\Temp/ipykernel_35476/550535396.py\u001b[0m in \u001b[0;36m<module>\u001b[1;34m\u001b[0m\n\u001b[0;32m      1\u001b[0m \u001b[1;32mimport\u001b[0m \u001b[0mnumpy\u001b[0m \u001b[1;32mas\u001b[0m \u001b[0mnp\u001b[0m\u001b[1;33m\u001b[0m\u001b[1;33m\u001b[0m\u001b[0m\n\u001b[0;32m      2\u001b[0m \u001b[1;32mimport\u001b[0m \u001b[0mopen3d\u001b[0m \u001b[1;32mas\u001b[0m \u001b[0mo3\u001b[0m\u001b[1;33m\u001b[0m\u001b[1;33m\u001b[0m\u001b[0m\n\u001b[1;32m----> 3\u001b[1;33m \u001b[1;32mfrom\u001b[0m \u001b[0mopen3d\u001b[0m \u001b[1;32mimport\u001b[0m \u001b[0mJVisualizer\u001b[0m\u001b[1;33m\u001b[0m\u001b[1;33m\u001b[0m\u001b[0m\n\u001b[0m\u001b[0;32m      4\u001b[0m \u001b[1;33m\u001b[0m\u001b[0m\n\u001b[0;32m      5\u001b[0m \u001b[0mpts_path\u001b[0m \u001b[1;33m=\u001b[0m \u001b[1;34m\"examples/TestData/fragment.ply\"\u001b[0m\u001b[1;33m\u001b[0m\u001b[1;33m\u001b[0m\u001b[0m\n",
      "\u001b[1;31mImportError\u001b[0m: cannot import name 'JVisualizer' from 'open3d' (C:\\Users\\ambek\\AppData\\Roaming\\Python\\Python39\\site-packages\\open3d\\__init__.py)"
     ]
    }
   ],
   "source": [
    "import numpy as np\n",
    "import open3d as o3\n",
    "from open3d import JVisualizer\n",
    "\n",
    "pts_path = \"examples/TestData/fragment.ply\"\n",
    "fragment = o3.read_point_cloud(pts_path)\n",
    "visualizer = JVisualizer()\n",
    "visualizer.add_geometry(fragment)\n",
    "visualizer.show()"
   ]
  },
  {
   "cell_type": "code",
   "execution_count": 3,
   "metadata": {},
   "outputs": [
    {
     "ename": "ModuleNotFoundError",
     "evalue": "No module named 'open3d.j_visualizer'",
     "output_type": "error",
     "traceback": [
      "\u001b[1;31m---------------------------------------------------------------------------\u001b[0m",
      "\u001b[1;31mModuleNotFoundError\u001b[0m                       Traceback (most recent call last)",
      "\u001b[1;32m~\\AppData\\Local\\Temp/ipykernel_35784/2962154768.py\u001b[0m in \u001b[0;36m<module>\u001b[1;34m\u001b[0m\n\u001b[1;32m----> 1\u001b[1;33m \u001b[1;32mfrom\u001b[0m \u001b[0mopen3d\u001b[0m\u001b[1;33m.\u001b[0m\u001b[0mj_visualizer\u001b[0m \u001b[1;32mimport\u001b[0m \u001b[0mJVisualizer\u001b[0m\u001b[1;33m\u001b[0m\u001b[1;33m\u001b[0m\u001b[0m\n\u001b[0m",
      "\u001b[1;31mModuleNotFoundError\u001b[0m: No module named 'open3d.j_visualizer'"
     ]
    }
   ],
   "source": [
    "from open3d.j_visualizer import JVisualizer"
   ]
  },
  {
   "cell_type": "code",
   "execution_count": null,
   "metadata": {},
   "outputs": [],
   "source": []
  },
  {
   "cell_type": "code",
   "execution_count": null,
   "metadata": {},
   "outputs": [],
   "source": []
  }
 ],
 "metadata": {
  "interpreter": {
   "hash": "3bbd8780c51860e63634df7233278733bc37474a7323a403bec6cdcf8f036149"
  },
  "kernelspec": {
   "display_name": "Python 3 (ipykernel)",
   "language": "python",
   "name": "python3"
  },
  "language_info": {
   "codemirror_mode": {
    "name": "ipython",
    "version": 3
   },
   "file_extension": ".py",
   "mimetype": "text/x-python",
   "name": "python",
   "nbconvert_exporter": "python",
   "pygments_lexer": "ipython3",
   "version": "3.9.7"
  }
 },
 "nbformat": 4,
 "nbformat_minor": 2
}
